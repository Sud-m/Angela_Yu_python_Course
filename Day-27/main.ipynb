{
 "cells": [
  {
   "cell_type": "code",
   "execution_count": 2,
   "metadata": {},
   "outputs": [],
   "source": [
    "import tkinter\n",
    "\n",
    "window = tkinter.Tk()\n",
    "\n",
    "window.title(\"First window\")\n",
    "window.minsize(width = 500, height = 300)\n",
    "\n",
    "mylabel = tkinter.Label(text = \"label\", font = ('Arial', 24, 'bold'))\n",
    "mylabel.pack(side = 'left', )\n",
    "# mylabel.pack()\n",
    "\n",
    "\n",
    "# mylabel[\"text\"] = \"New text\" # or\n",
    "mylabel.config(text = \"New text\")\n",
    "window.mainloop()"
   ]
  },
  {
   "cell_type": "code",
   "execution_count": null,
   "metadata": {},
   "outputs": [],
   "source": []
  }
 ],
 "metadata": {
  "kernelspec": {
   "display_name": "venv",
   "language": "python",
   "name": "python3"
  },
  "language_info": {
   "codemirror_mode": {
    "name": "ipython",
    "version": 3
   },
   "file_extension": ".py",
   "mimetype": "text/x-python",
   "name": "python",
   "nbconvert_exporter": "python",
   "pygments_lexer": "ipython3",
   "version": "3.11.9"
  }
 },
 "nbformat": 4,
 "nbformat_minor": 2
}
